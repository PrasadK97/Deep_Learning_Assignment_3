{
  "nbformat": 4,
  "nbformat_minor": 0,
  "metadata": {
    "colab": {
      "provenance": [],
      "gpuType": "T4",
      "include_colab_link": true
    },
    "kernelspec": {
      "name": "python3",
      "display_name": "Python 3"
    },
    "language_info": {
      "name": "python"
    },
    "accelerator": "GPU",
    "gpuClass": "standard"
  },
  "cells": [
    {
      "cell_type": "markdown",
      "metadata": {
        "id": "view-in-github",
        "colab_type": "text"
      },
      "source": [
        "<a href=\"https://colab.research.google.com/github/PrasadK97/Deep_Learning_Assignment_3/blob/main/seq2seq_model_without_Attention.ipynb\" target=\"_parent\"><img src=\"https://colab.research.google.com/assets/colab-badge.svg\" alt=\"Open In Colab\"/></a>"
      ]
    },
    {
      "cell_type": "code",
      "execution_count": null,
      "metadata": {
        "id": "ilb1Vc7ZfE_s"
      },
      "outputs": [],
      "source": [
        "\n",
        "import torch\n",
        "import torch.nn as nn\n",
        "from torch import optim\n",
        "import torch.nn.functional as F\n",
        "from tqdm import tqdm\n",
        "device = torch.device(\"cuda\" if torch.cuda.is_available() else \"cpu\")\n",
        "import csv\n",
        "import requests"
      ]
    },
    {
      "cell_type": "code",
      "source": [
        "pip install wandb"
      ],
      "metadata": {
        "colab": {
          "base_uri": "https://localhost:8080/"
        },
        "id": "t2SZvHaMfGYA",
        "outputId": "86d99566-f3bc-4cf4-bac2-8559bf585420"
      },
      "execution_count": null,
      "outputs": [
        {
          "output_type": "stream",
          "name": "stdout",
          "text": [
            "Looking in indexes: https://pypi.org/simple, https://us-python.pkg.dev/colab-wheels/public/simple/\n",
            "Collecting wandb\n",
            "  Downloading wandb-0.15.3-py3-none-any.whl (2.0 MB)\n",
            "\u001b[2K     \u001b[90m━━━━━━━━━━━━━━━━━━━━━━━━━━━━━━━━━━━━━━━━\u001b[0m \u001b[32m2.0/2.0 MB\u001b[0m \u001b[31m20.0 MB/s\u001b[0m eta \u001b[36m0:00:00\u001b[0m\n",
            "\u001b[?25hRequirement already satisfied: Click!=8.0.0,>=7.0 in /usr/local/lib/python3.10/dist-packages (from wandb) (8.1.3)\n",
            "Collecting GitPython!=3.1.29,>=1.0.0 (from wandb)\n",
            "  Downloading GitPython-3.1.31-py3-none-any.whl (184 kB)\n",
            "\u001b[2K     \u001b[90m━━━━━━━━━━━━━━━━━━━━━━━━━━━━━━━━━━━━━━\u001b[0m \u001b[32m184.3/184.3 kB\u001b[0m \u001b[31m10.3 MB/s\u001b[0m eta \u001b[36m0:00:00\u001b[0m\n",
            "\u001b[?25hRequirement already satisfied: requests<3,>=2.0.0 in /usr/local/lib/python3.10/dist-packages (from wandb) (2.27.1)\n",
            "Requirement already satisfied: psutil>=5.0.0 in /usr/local/lib/python3.10/dist-packages (from wandb) (5.9.5)\n",
            "Collecting sentry-sdk>=1.0.0 (from wandb)\n",
            "  Downloading sentry_sdk-1.23.1-py2.py3-none-any.whl (205 kB)\n",
            "\u001b[2K     \u001b[90m━━━━━━━━━━━━━━━━━━━━━━━━━━━━━━━━━━━━━━\u001b[0m \u001b[32m205.1/205.1 kB\u001b[0m \u001b[31m11.5 MB/s\u001b[0m eta \u001b[36m0:00:00\u001b[0m\n",
            "\u001b[?25hCollecting docker-pycreds>=0.4.0 (from wandb)\n",
            "  Downloading docker_pycreds-0.4.0-py2.py3-none-any.whl (9.0 kB)\n",
            "Requirement already satisfied: PyYAML in /usr/local/lib/python3.10/dist-packages (from wandb) (6.0)\n",
            "Collecting pathtools (from wandb)\n",
            "  Downloading pathtools-0.1.2.tar.gz (11 kB)\n",
            "  Preparing metadata (setup.py) ... \u001b[?25l\u001b[?25hdone\n",
            "Collecting setproctitle (from wandb)\n",
            "  Downloading setproctitle-1.3.2-cp310-cp310-manylinux_2_5_x86_64.manylinux1_x86_64.manylinux_2_17_x86_64.manylinux2014_x86_64.whl (30 kB)\n",
            "Requirement already satisfied: setuptools in /usr/local/lib/python3.10/dist-packages (from wandb) (67.7.2)\n",
            "Requirement already satisfied: appdirs>=1.4.3 in /usr/local/lib/python3.10/dist-packages (from wandb) (1.4.4)\n",
            "Requirement already satisfied: protobuf!=4.21.0,<5,>=3.19.0 in /usr/local/lib/python3.10/dist-packages (from wandb) (3.20.3)\n",
            "Requirement already satisfied: six>=1.4.0 in /usr/local/lib/python3.10/dist-packages (from docker-pycreds>=0.4.0->wandb) (1.16.0)\n",
            "Collecting gitdb<5,>=4.0.1 (from GitPython!=3.1.29,>=1.0.0->wandb)\n",
            "  Downloading gitdb-4.0.10-py3-none-any.whl (62 kB)\n",
            "\u001b[2K     \u001b[90m━━━━━━━━━━━━━━━━━━━━━━━━━━━━━━━━━━━━━━━━\u001b[0m \u001b[32m62.7/62.7 kB\u001b[0m \u001b[31m9.3 MB/s\u001b[0m eta \u001b[36m0:00:00\u001b[0m\n",
            "\u001b[?25hRequirement already satisfied: urllib3<1.27,>=1.21.1 in /usr/local/lib/python3.10/dist-packages (from requests<3,>=2.0.0->wandb) (1.26.15)\n",
            "Requirement already satisfied: certifi>=2017.4.17 in /usr/local/lib/python3.10/dist-packages (from requests<3,>=2.0.0->wandb) (2022.12.7)\n",
            "Requirement already satisfied: charset-normalizer~=2.0.0 in /usr/local/lib/python3.10/dist-packages (from requests<3,>=2.0.0->wandb) (2.0.12)\n",
            "Requirement already satisfied: idna<4,>=2.5 in /usr/local/lib/python3.10/dist-packages (from requests<3,>=2.0.0->wandb) (3.4)\n",
            "Collecting smmap<6,>=3.0.1 (from gitdb<5,>=4.0.1->GitPython!=3.1.29,>=1.0.0->wandb)\n",
            "  Downloading smmap-5.0.0-py3-none-any.whl (24 kB)\n",
            "Building wheels for collected packages: pathtools\n",
            "  Building wheel for pathtools (setup.py) ... \u001b[?25l\u001b[?25hdone\n",
            "  Created wheel for pathtools: filename=pathtools-0.1.2-py3-none-any.whl size=8791 sha256=b4ed3f2783806a40eb547ea18a85aaa1efbdbf77a22bfb8aec04031f050a4e67\n",
            "  Stored in directory: /root/.cache/pip/wheels/e7/f3/22/152153d6eb222ee7a56ff8617d80ee5207207a8c00a7aab794\n",
            "Successfully built pathtools\n",
            "Installing collected packages: pathtools, smmap, setproctitle, sentry-sdk, docker-pycreds, gitdb, GitPython, wandb\n",
            "Successfully installed GitPython-3.1.31 docker-pycreds-0.4.0 gitdb-4.0.10 pathtools-0.1.2 sentry-sdk-1.23.1 setproctitle-1.3.2 smmap-5.0.0 wandb-0.15.3\n"
          ]
        }
      ]
    },
    {
      "cell_type": "code",
      "source": [
        "import wandb\n",
        "from io import open\n",
        "import unicodedata\n",
        "import pandas as pd\n",
        "import numpy as np\n",
        "import string\n",
        "import re\n",
        "import random\n",
        "import time"
      ],
      "metadata": {
        "id": "PzpN9AREfIh-"
      },
      "execution_count": null,
      "outputs": []
    },
    {
      "cell_type": "code",
      "source": [
        "wandb.login()"
      ],
      "metadata": {
        "colab": {
          "base_uri": "https://localhost:8080/",
          "height": 69
        },
        "id": "tkuBaPmAfMUp",
        "outputId": "b741c67a-4ff0-41c4-ae2a-3987a3199738"
      },
      "execution_count": null,
      "outputs": [
        {
          "output_type": "display_data",
          "data": {
            "text/plain": [
              "<IPython.core.display.Javascript object>"
            ],
            "application/javascript": [
              "\n",
              "        window._wandbApiKey = new Promise((resolve, reject) => {\n",
              "            function loadScript(url) {\n",
              "            return new Promise(function(resolve, reject) {\n",
              "                let newScript = document.createElement(\"script\");\n",
              "                newScript.onerror = reject;\n",
              "                newScript.onload = resolve;\n",
              "                document.body.appendChild(newScript);\n",
              "                newScript.src = url;\n",
              "            });\n",
              "            }\n",
              "            loadScript(\"https://cdn.jsdelivr.net/npm/postmate/build/postmate.min.js\").then(() => {\n",
              "            const iframe = document.createElement('iframe')\n",
              "            iframe.style.cssText = \"width:0;height:0;border:none\"\n",
              "            document.body.appendChild(iframe)\n",
              "            const handshake = new Postmate({\n",
              "                container: iframe,\n",
              "                url: 'https://wandb.ai/authorize'\n",
              "            });\n",
              "            const timeout = setTimeout(() => reject(\"Couldn't auto authenticate\"), 5000)\n",
              "            handshake.then(function(child) {\n",
              "                child.on('authorize', data => {\n",
              "                    clearTimeout(timeout)\n",
              "                    resolve(data)\n",
              "                });\n",
              "            });\n",
              "            })\n",
              "        });\n",
              "    "
            ]
          },
          "metadata": {}
        },
        {
          "output_type": "stream",
          "name": "stderr",
          "text": [
            "\u001b[34m\u001b[1mwandb\u001b[0m: Appending key for api.wandb.ai to your netrc file: /root/.netrc\n"
          ]
        },
        {
          "output_type": "execute_result",
          "data": {
            "text/plain": [
              "True"
            ]
          },
          "metadata": {},
          "execution_count": 4
        }
      ]
    },
    {
      "cell_type": "code",
      "source": [
        "# Function to read and split the CSV file\n",
        "def read_csv_file(url):\n",
        "    response = requests.get(url)\n",
        "    csv_data = response.text\n",
        "    lines = csv_data.strip().split('\\n')\n",
        "    pairs = [line.split(',') for line in lines]\n",
        "    return pairs"
      ],
      "metadata": {
        "id": "57px3kskQaB5"
      },
      "execution_count": null,
      "outputs": []
    },
    {
      "cell_type": "code",
      "source": [
        "\n",
        "\n",
        "class Language:\n",
        "    def __init__(self, name):\n",
        "        self.name = name\n",
        "        self.letter2index = {}\n",
        "        self.letter2count = {}\n",
        "        self.index2letter = {0: \"SOS\", 1: \"EOS\"}\n",
        "        self.n_letters = 2  # Count SOS and EOS\n",
        "\n",
        "    def letter(self, letter): # making a dictionary of letters and their counts\n",
        "        if letter not in self.letter2index:\n",
        "            self.letter2index[letter] = self.n_letters\n",
        "            self.letter2count[letter] = 1\n",
        "            self.index2letter[self.n_letters] = letter\n",
        "            self.n_letters += 1\n",
        "        else:\n",
        "            self.letter2count[letter] += 1\n",
        "\n",
        "    def word(self, letter): # adding a word to the dictionary\n",
        "        for letter in letter:\n",
        "            self.letter(letter)\n",
        "\n",
        "    def decode(self, target):\n",
        "        return ' '.join([self.index2letter[i.get] for i in target])\n"
      ],
      "metadata": {
        "id": "eZHFpFf-Qgne"
      },
      "execution_count": null,
      "outputs": []
    },
    {
      "cell_type": "code",
      "source": [
        "def read(language1, language2, reverse=False): # read the file and make a dictionary of words of both languageuages\n",
        "\n",
        "    # Read the file and split into lines\n",
        "    # URLs of the CSV files on GitHub\n",
        "    train_url = 'https://github.com/PrasadK97/Deep_Learning_Assignment_3/raw/main/aksharantar_sampled/mar/mar_train.csv'\n",
        "    val_url = 'https://github.com/PrasadK97/Deep_Learning_Assignment_3/raw/main/aksharantar_sampled/mar/mar_valid.csv'\n",
        "\n",
        "    # Read and split the train CSV file\n",
        "    train_pairs = read_csv_file(train_url)\n",
        "\n",
        "    # Read and split the validation CSV file\n",
        "    val_pairs = read_csv_file(val_url)\n",
        "    \n",
        "    input_language = Language(language1)\n",
        "    output_language = Language(language2)\n",
        "\n",
        "    for pair in train_pairs:\n",
        "        input_language.word(pair[0])\n",
        "        output_language.word(pair[1])\n",
        "    \n",
        "    for pair in val_pairs:\n",
        "        input_language.word(pair[0])\n",
        "        output_language.word(pair[1])\n",
        "\n",
        "    return train_pairs, val_pairs, input_language, output_language"
      ],
      "metadata": {
        "id": "oWtNodfzQtoV"
      },
      "execution_count": null,
      "outputs": []
    },
    {
      "cell_type": "code",
      "source": [
        "sos = 0\n",
        "eos = 1\n",
        "def indices(language, word):\n",
        "    return [language.letter2index[letter] for letter in word]\n",
        "\n",
        "\n",
        "def tensor_word(language, word): \n",
        "    indexes = indices(language, word)\n",
        "    indexes.append(eos)\n",
        "    return torch.tensor(indexes, dtype=torch.long, device=device).view(-1, 1)\n",
        "\n",
        "\n",
        "def tensors_Pair(pair, input_language, output_language): \n",
        "    input_tensor = tensor_word(input_language, pair[0])\n",
        "    target_tensor = tensor_word(output_language, pair[1])\n",
        "    return (input_tensor, target_tensor)"
      ],
      "metadata": {
        "id": "ciSxmc7dQ4WE"
      },
      "execution_count": null,
      "outputs": []
    },
    {
      "cell_type": "code",
      "source": [
        "# ENCODER MODEL\n",
        "\n",
        "class Encoder(nn.Module):\n",
        "    def __init__(self, type, input_size, emb_size, hidden_size, p, num_layers):\n",
        "        super(Encoder, self).__init__()\n",
        "        self.dropout = nn.Dropout(p)\n",
        "        self.hidden_size = hidden_size\n",
        "        self.num_layers = num_layers\n",
        "        self.embedding = nn.Embedding(input_size, emb_size)\n",
        "        self.rnn = nn.RNN(emb_size, hidden_size, num_layers, dropout = p)\n",
        "        self.gru = nn.GRU(emb_size, hidden_size, num_layers, dropout = p)\n",
        "        self.lstm = nn.LSTM(emb_size, hidden_size, num_layers, dropout = p)\n",
        "        self.type_t = type\n",
        "\n",
        "    def forward(self, input, hidden):\n",
        "        embedded = self.dropout(self.embedding(input)).view(1, 1, -1)\n",
        "        output = embedded\n",
        "        \n",
        "      \n",
        "        if self.type_t == 'RNN':\n",
        "            output, hidden = self.rnn(output, hidden)\n",
        "        elif self.type_t == 'GRU':\n",
        "            output, hidden = self.gru(output, hidden)\n",
        "        elif self.type_t == 'LSTM':\n",
        "            output, hidden = self.lstm(output, hidden)\n",
        "\n",
        "        return output, hidden\n",
        "    \n",
        "    def initHidden(self): \n",
        "        if self.type_t == 'LSTM':\n",
        "            return (torch.zeros(self.num_layers, 1, self.hidden_size, device=device), torch.zeros(self.num_layers, 1, self.hidden_size, device=device))\n",
        "        return torch.zeros(self.num_layers, 1, self.hidden_size, device=device)\n",
        "\n",
        "\n",
        "# DECODER MODEL\n",
        "\n",
        "class Decoder(nn.Module): \n",
        "    def __init__(self, type, output_size, embedding_size, hidden_size, p, num_layers):\n",
        "        super(Decoder, self).__init__()\n",
        "        self.dropout = nn.Dropout(p)\n",
        "        self.output_size = output_size\n",
        "        self.hidden_size = hidden_size\n",
        "        self.num_layers = num_layers\n",
        "        self.embedding = nn.Embedding(output_size, embedding_size)\n",
        "        self.rnn = nn.RNN(embedding_size, hidden_size, num_layers, dropout = p)\n",
        "        self.gru = nn.GRU(embedding_size, hidden_size, num_layers, dropout = p)\n",
        "        self.lstm = nn.LSTM(embedding_size, hidden_size, num_layers, dropout = p)\n",
        "        self.out = nn.Linear(hidden_size, output_size)\n",
        "        self.softmax = nn.LogSoftmax(dim=1)\n",
        "        self.type_t = type\n",
        "\n",
        "    def forward(self, input, hidden):\n",
        "        output = self.dropout(self.embedding(input)).view(1, 1, -1) \n",
        "        output = F.relu(output) \n",
        "        \n",
        "       \n",
        "        if self.type_t == 'RNN':\n",
        "            output, hidden = self.rnn(output, hidden)\n",
        "        elif self.type_t == 'GRU':\n",
        "            output, hidden = self.gru(output, hidden)\n",
        "        elif self.type_t == 'LSTM':\n",
        "            output, hidden = self.lstm(output, hidden)\n",
        "\n",
        "        \n",
        "        output = self.softmax(self.out(output[0]))\n",
        "        return output, hidden\n",
        "    \n",
        "    def inithidden(self): \n",
        "        if self.type_t == 'LSTM':\n",
        "            return (torch.zeros(self.num_layers, 1, self.hidden_size, device=device), torch.zeros(self.num_layers, 1, self.hidden_size, device=device))\n",
        "        return torch.zeros(self.num_layers, 1, self.hidden_size, device=device)"
      ],
      "metadata": {
        "id": "rzOiP268RBbx"
      },
      "execution_count": null,
      "outputs": []
    },
    {
      "cell_type": "code",
      "source": [
        "# Training the model\n",
        "\n",
        "class Train(): \n",
        "    def __init__(self, train_data, encoder, decoder, criterion, tfr = 0.5):\n",
        "        self.train_data = train_data\n",
        "        self.encoder = encoder\n",
        "        self.decoder = decoder\n",
        "        self.criterion = criterion\n",
        "        self.tfr = tfr\n",
        "        self.train_pairs, self.val_pairs, self.input_lang, self.output_lang = readLang('eng', 'hin')\n",
        "        self.training_pairs = [tensorsFromPair(self.train_pairs[i], self.input_lang, self.output_lang) for i in range(len(self.train_pairs))]\n",
        "\n",
        "    def train(self, input_tensor, target_tensor, encoder_optimizer, decoder_optimizer):\n",
        "        encoder_hidden = self.encoder.inithidden()\n",
        "        encoder_optimizer.zero_grad()\n",
        "        decoder_optimizer.zero_grad()\n",
        "        encoder_outputs = torch.zeros(50, self.encoder.hidden_size, device=device)\n",
        "\n",
        "        loss = 0\n",
        "\n",
        "        input_length = input_tensor.size(0)\n",
        "        target_length = target_tensor.size(0)\n",
        "\n",
        "        for i in range(input_length): \n",
        "            encoder_output, encoder_hidden = self.encoder(input_tensor[i], encoder_hidden)\n",
        "            encoder_outputs[i] += encoder_output[0, 0]\n",
        "\n",
        "        decoder_input = torch.tensor([[sos]], device=device)\n",
        "        decoder_hidden = encoder_hidden \n",
        "\n",
        "        teacher_forc = True if random.random() < self.tfr else False\n",
        "\n",
        "        if teacher_forc: \n",
        "            for i in range(target_length):\n",
        "                decoder_output, decoder_hidden = self.decoder(decoder_input, decoder_hidden)\n",
        "                loss += self.criterion(decoder_output, target_tensor[i])\n",
        "                decoder_input = target_tensor[i] \n",
        "\n",
        "        else:\n",
        "            for i in range(target_length):\n",
        "                decoder_output, decoder_hidden = self.decoder(decoder_input, decoder_hidden)\n",
        "                topv, topi = decoder_output.topk(1) \n",
        "                decoder_input = topi.squeeze().detach() \n",
        "                loss += self.criterion(decoder_output, target_tensor[i])\n",
        "                if decoder_input.item() == eos: \n",
        "                    break\n",
        "\n",
        "        loss.backward() \n",
        "\n",
        "        encoder_optimizer.step()\n",
        "        decoder_optimizer.step()\n",
        "\n",
        "        return loss.item() / target_length\n",
        "\n",
        "\n",
        "    def trainIters(self, optimizer, learning_rate, n_iters = 50, print_every = 50, epochs=-1):\n",
        "        start = time.time()\n",
        "        print_loss_total = 0\n",
        "\n",
        "        if optimizer == 'sgd':\n",
        "\n",
        "            encoder_optimizer = optim.sgd(self.encoder.parameters(), lr = learning_rate)\n",
        "            decoder_optimizer = optim.sgd(self.decoder.parameters(), lr = learning_rate)\n",
        "\n",
        "\n",
        "        elif optimizer == 'RMSprop':\n",
        "\n",
        "            encoder_optimizer = optim.RMSprop(self.encoder.parameters(), lr = learning_rate)\n",
        "            decoder_optimizer = optim.RMSprop(self.decoder.parameters(), lr = learning_rate)\n",
        "            \n",
        "        elif optimizer == 'adam':\n",
        "\n",
        "            encoder_optimizer = optim.adam(self.encoder.parameters(), lr = learning_rate)\n",
        "            decoder_optimizer = optim.adam(self.decoder.parameters(), lr = learning_rate)\n",
        "\n",
        "       \n",
        "\n",
        "        elif optimizer == 'Nadam':\n",
        "\n",
        "            encoder_optimizer = optim.Nadam(self.encoder.parameters(), lr = learning_rate)\n",
        "            decoder_optimizer = optim.Nadam(self.decoder.parameters(), lr = learning_rate)\n",
        "\n",
        "        if epochs != -1:\n",
        "\n",
        "            n_iters = len(self.train_pairs)\n",
        "        else:\n",
        "\n",
        "            train_loss_total = 0\n",
        "            for iter in tqdm(range(1, n_iters+1)):\n",
        "                training_pair = self.training_pairs[iter - 1]\n",
        "                input_tensor = training_pair[0]\n",
        "                target_tensor = training_pair[1]\n",
        "                loss = self.train(input_tensor, target_tensor, encoder_optimizer, decoder_optimizer)\n",
        "                train_loss_total += loss\n",
        "\n",
        "                if iter % print_every == 0:\n",
        "                    print_loss_avg = print_loss_total / print_every\n",
        "                    print_loss_total = 0\n",
        "                    print('%s (%d %d%%) %.4f' % (time_since(start, iter/n_iters), iter, iter/n_iters*100, print_loss_avg))\n",
        "            train_acc = self.evaluate_data(self.train_pairs)\n",
        "            valid_acc = self.evaluate_data(self.val_pairs)\n",
        "            return train_acc, valid_acc\n",
        "\n",
        "        loss_train = []\n",
        "        val_acc = []\n",
        "        acc_train = []\n",
        "        for j in range(epochs):\n",
        "            train_loss_total = 0\n",
        "            for iter in tqdm(range(1, n_iters+1)):\n",
        "                training_pair = self.training_pairs[iter - 1]\n",
        "                input_tensor = training_pair[0]\n",
        "                target_tensor = training_pair[1]\n",
        "                loss = self.train(input_tensor, target_tensor, encoder_optimizer, decoder_optimizer)\n",
        "                train_loss_total += loss\n",
        "                print_loss_total += loss\n",
        "\n",
        "                if iter % print_every == 0:\n",
        "                    print_loss_avg = print_loss_total / print_every\n",
        "                    print_loss_total = 0\n",
        "                    print('%s (%d %d%%) %.4f' % (timeSince(start, iter/n_iters), iter, iter/n_iters*100, print_loss_avg))\n",
        "            train_acc = self.evaluate_data(self.train_pairs)\n",
        "            valid_acc = self.evaluate_data(self.val_pairs)\n",
        "            loss_train.append(train_loss_total / n_iters)\n",
        "            val_acc.append(valid_acc)\n",
        "            acc_train.append(train_acc)\n",
        "            wandb.log({'train_loss': train_loss_total / n_iters, 'train_acc': train_acc, 'valid_acc': valid_acc})\n",
        "        return loss_train, acc_train, val_acc\n",
        "                    \n",
        "\n",
        "    def evaluate(self, word):\n",
        "        with torch.no_grad():\n",
        "            input_tensor = tensor_word(self.input_lang, word)\n",
        "            input_length = input_tensor.size()[0]\n",
        "            encoder_hidden = self.encoder.initHidden()\n",
        "\n",
        "            encoder_outputs = torch.zeros(50, self.encoder.hidden_size, device=device)\n",
        "\n",
        "            for i in range(input_length): # encoding a word\n",
        "                encoder_output, encoder_hidden = self.encoder(input_tensor[i], encoder_hidden)\n",
        "                # print(encoder_output.shape)\n",
        "                encoder_outputs[i] += encoder_output[0, 0]\n",
        "\n",
        "            decoder_input = torch.tensor([[sos]], device=device)\n",
        "            decoder_hidden = encoder_hidden # encoder shares its hidden layer with decoder\n",
        "\n",
        "            decoded_word = ''\n",
        "\n",
        "            for i in range(50):\n",
        "                decoder_output, decoder_hidden = self.decoder(decoder_input, decoder_hidden)\n",
        "                topv, topi = decoder_output.topk(1) # top k predictions\n",
        "                if topi.item() == eos:\n",
        "                    break\n",
        "                else:\n",
        "                    decoded_word += (self.output_lang.index2letter[topi.item()])\n",
        "                decoder_input = topi.squeeze().detach() # detach from history as input\n",
        "\n",
        "            return decoded_word\n",
        "        \n",
        "    def evaluate_data(self, data):\n",
        "        acc = 0\n",
        "        for word,target in data:\n",
        "            acc += (self.evaluate(word) == target)\n",
        "        return acc / len(data)\n",
        "\n",
        "train_pairs, val_pairs, input_lang, output_lang = readLang('eng', 'mar')"
      ],
      "metadata": {
        "id": "5XERVg-sROUm"
      },
      "execution_count": null,
      "outputs": []
    },
    {
      "cell_type": "code",
      "source": [
        "import time\n",
        "import math\n",
        "\n",
        "\n",
        "def as_min(s):\n",
        "    m = math.floor(s / 60)\n",
        "    s -= m * 60\n",
        "    return '%dm %ds' % (m, s)\n",
        "\n",
        "\n",
        "def timeSince(since, percent):\n",
        "    now = time.time()\n",
        "    s = now - since\n",
        "    es = s / (percent)\n",
        "    rs = es - s\n",
        "    return '%s (- %s)' % (as_min(s), as_min(rs))\n"
      ],
      "metadata": {
        "id": "W_TxI2UJfPnd"
      },
      "execution_count": null,
      "outputs": []
    },
    {
      "cell_type": "code",
      "source": [
        "sweep_config = {\n",
        "    'method': 'random', \n",
        "    'metric': {\n",
        "        'name': 'valid_acc',\n",
        "        'goal': 'maximize'\n",
        "    },\n",
        "    'parameters': {\n",
        "        'optimizer': {\n",
        "            'values': ['SGD', 'Adam', 'RMSprop', 'NAdam']\n",
        "        },\n",
        "        'learning_rate': {\n",
        "            'values': [1e-4, 5e-4, 0.001, 0.005, 0.01]\n",
        "        },\n",
        "        'epochs': {\n",
        "            'values': [5, 10, 15, 20]\n",
        "        },\n",
        "        'hid_layers': {\n",
        "            'values': [1, 2, 3, 4]\n",
        "        },\n",
        "        'emb_size': {\n",
        "            'values': [64, 128, 256, 512]\n",
        "        },\n",
        "        'hidden_size': {\n",
        "            'values': [64, 128, 256, 512]\n",
        "        },\n",
        "        'dropout': {\n",
        "            'values': [0, 0.1, 0.2, 0.3, 0.4]\n",
        "        },\n",
        "        'type_t': {\n",
        "            'values': ['RNN', 'LSTM', 'GRU']\n",
        "        }\n",
        "    }\n",
        "}\n"
      ],
      "metadata": {
        "id": "veTT_wp8Q-Xs"
      },
      "execution_count": null,
      "outputs": []
    },
    {
      "cell_type": "code",
      "source": [
        "def run():\n",
        "  config_defaults = {\n",
        "        'optimizer': 'Adam',\n",
        "        'learning_rate': 0.005,\n",
        "        'epochs': 10,\n",
        "        'hid_layers': 1,\n",
        "        'emb_size': 256,\n",
        "        'hidden_size': 256,\n",
        "        'dropout': 0.1,\n",
        "        'type_t': 'GRU'\n",
        "  }\n",
        "  wandb.init(config=config_defaults)\n",
        "  config = wandb.config\n",
        "  encoder = Encoder(config.type_t, input_lang.n_letters, config.emb_size, config.hidden_size, config.dropout, config.hid_layers).to(device)\n",
        "  decoder = Decoder(config.type_t, output_lang.n_letters, config.emb_size, config.hidden_size, config.dropout, config.hid_layers).to(device)\n",
        "  train = Train(train_pairs, encoder, decoder, nn.NLLLoss(), config.dropout)\n",
        "  train.trainIters(config.optimizer, config.learning_rate,print_every= 1000, epochs=config.epochs)\n",
        "\n",
        "  wandb.finish()\n",
        "\n",
        "sweep_id = wandb.sweep(sweep_config, project='Assignment_3')\n",
        "wandb.agent(sweep_id, function=run, count=10)"
      ],
      "metadata": {
        "id": "Kn3K3A0DfW49"
      },
      "execution_count": null,
      "outputs": []
    },
    {
      "cell_type": "code",
      "source": [],
      "metadata": {
        "id": "8bmYIMoVfa6d"
      },
      "execution_count": null,
      "outputs": []
    },
    {
      "cell_type": "code",
      "source": [],
      "metadata": {
        "id": "t88bnSGNfdSO"
      },
      "execution_count": null,
      "outputs": []
    },
    {
      "cell_type": "code",
      "source": [],
      "metadata": {
        "id": "sF2yNpOufjvN"
      },
      "execution_count": null,
      "outputs": []
    },
    {
      "cell_type": "code",
      "source": [],
      "metadata": {
        "id": "7azXp5WIfm_t"
      },
      "execution_count": null,
      "outputs": []
    },
    {
      "cell_type": "code",
      "source": [],
      "metadata": {
        "id": "BzkvR0OBfpU9"
      },
      "execution_count": null,
      "outputs": []
    },
    {
      "cell_type": "code",
      "source": [],
      "metadata": {
        "id": "dwSkMfsqftQt"
      },
      "execution_count": null,
      "outputs": []
    },
    {
      "cell_type": "code",
      "source": [],
      "metadata": {
        "id": "FrbfEcZMfw7t"
      },
      "execution_count": null,
      "outputs": []
    },
    {
      "cell_type": "code",
      "source": [],
      "metadata": {
        "colab": {
          "base_uri": "https://localhost:8080/",
          "height": 1000
        },
        "id": "Bezfk6yhf1GN",
        "outputId": "0e253306-9a8c-4ec8-d40f-ebd34e2acaac"
      },
      "execution_count": null,
      "outputs": [
        {
          "output_type": "stream",
          "name": "stdout",
          "text": [
            "Create sweep with ID: 5hfzg3eg\n",
            "Sweep URL: https://wandb.ai/prasad_kokitkar/Assignment_3/sweeps/5hfzg3eg\n"
          ]
        },
        {
          "output_type": "stream",
          "name": "stderr",
          "text": [
            "\u001b[34m\u001b[1mwandb\u001b[0m: Agent Starting Run: jyajzsvt with config:\n",
            "\u001b[34m\u001b[1mwandb\u001b[0m: \tdropout: 0\n",
            "\u001b[34m\u001b[1mwandb\u001b[0m: \temb_size: 256\n",
            "\u001b[34m\u001b[1mwandb\u001b[0m: \tepochs: 10\n",
            "\u001b[34m\u001b[1mwandb\u001b[0m: \thid_layers: 1\n",
            "\u001b[34m\u001b[1mwandb\u001b[0m: \thidden_size: 256\n",
            "\u001b[34m\u001b[1mwandb\u001b[0m: \tlearning_rate: 0.01\n",
            "\u001b[34m\u001b[1mwandb\u001b[0m: \toptimizer: NAdam\n",
            "\u001b[34m\u001b[1mwandb\u001b[0m: \ttype_t: RNN\n",
            "\u001b[34m\u001b[1mwandb\u001b[0m: Currently logged in as: \u001b[33mprasad_kokitkar\u001b[0m. Use \u001b[1m`wandb login --relogin`\u001b[0m to force relogin\n"
          ]
        },
        {
          "output_type": "display_data",
          "data": {
            "text/plain": [
              "<IPython.core.display.HTML object>"
            ],
            "text/html": [
              "Tracking run with wandb version 0.15.3"
            ]
          },
          "metadata": {}
        },
        {
          "output_type": "display_data",
          "data": {
            "text/plain": [
              "<IPython.core.display.HTML object>"
            ],
            "text/html": [
              "Run data is saved locally in <code>/content/wandb/run-20230521_135316-jyajzsvt</code>"
            ]
          },
          "metadata": {}
        },
        {
          "output_type": "display_data",
          "data": {
            "text/plain": [
              "<IPython.core.display.HTML object>"
            ],
            "text/html": [
              "Syncing run <strong><a href='https://wandb.ai/prasad_kokitkar/Assignment_3/runs/jyajzsvt' target=\"_blank\">daily-sweep-1</a></strong> to <a href='https://wandb.ai/prasad_kokitkar/Assignment_3' target=\"_blank\">Weights & Biases</a> (<a href='https://wandb.me/run' target=\"_blank\">docs</a>)<br/>Sweep page: <a href='https://wandb.ai/prasad_kokitkar/Assignment_3/sweeps/5hfzg3eg' target=\"_blank\">https://wandb.ai/prasad_kokitkar/Assignment_3/sweeps/5hfzg3eg</a>"
            ]
          },
          "metadata": {}
        },
        {
          "output_type": "display_data",
          "data": {
            "text/plain": [
              "<IPython.core.display.HTML object>"
            ],
            "text/html": [
              " View project at <a href='https://wandb.ai/prasad_kokitkar/Assignment_3' target=\"_blank\">https://wandb.ai/prasad_kokitkar/Assignment_3</a>"
            ]
          },
          "metadata": {}
        },
        {
          "output_type": "display_data",
          "data": {
            "text/plain": [
              "<IPython.core.display.HTML object>"
            ],
            "text/html": [
              " View sweep at <a href='https://wandb.ai/prasad_kokitkar/Assignment_3/sweeps/5hfzg3eg' target=\"_blank\">https://wandb.ai/prasad_kokitkar/Assignment_3/sweeps/5hfzg3eg</a>"
            ]
          },
          "metadata": {}
        },
        {
          "output_type": "display_data",
          "data": {
            "text/plain": [
              "<IPython.core.display.HTML object>"
            ],
            "text/html": [
              " View run at <a href='https://wandb.ai/prasad_kokitkar/Assignment_3/runs/jyajzsvt' target=\"_blank\">https://wandb.ai/prasad_kokitkar/Assignment_3/runs/jyajzsvt</a>"
            ]
          },
          "metadata": {}
        },
        {
          "output_type": "stream",
          "name": "stderr",
          "text": [
            "  2%|▏         | 1009/51200 [00:17<12:13, 68.40it/s]"
          ]
        },
        {
          "output_type": "stream",
          "name": "stdout",
          "text": [
            "0m 17s (- 14m 40s) (1000 1%) 3.7265\n"
          ]
        },
        {
          "output_type": "stream",
          "name": "stderr",
          "text": [
            "  4%|▍         | 2010/51200 [00:33<13:38, 60.06it/s]"
          ]
        },
        {
          "output_type": "stream",
          "name": "stdout",
          "text": [
            "0m 33s (- 13m 48s) (2000 3%) 3.5213\n"
          ]
        },
        {
          "output_type": "stream",
          "name": "stderr",
          "text": [
            "  6%|▌         | 3011/51200 [00:51<12:07, 66.27it/s]"
          ]
        },
        {
          "output_type": "stream",
          "name": "stdout",
          "text": [
            "0m 50s (- 13m 38s) (3000 5%) 3.4631\n"
          ]
        },
        {
          "output_type": "stream",
          "name": "stderr",
          "text": [
            "  8%|▊         | 4012/51200 [01:06<11:41, 67.24it/s]"
          ]
        },
        {
          "output_type": "stream",
          "name": "stdout",
          "text": [
            "1m 6s (- 13m 7s) (4000 7%) 3.3850\n"
          ]
        },
        {
          "output_type": "stream",
          "name": "stderr",
          "text": [
            " 10%|▉         | 5014/51200 [01:23<10:12, 75.42it/s]"
          ]
        },
        {
          "output_type": "stream",
          "name": "stdout",
          "text": [
            "1m 22s (- 12m 45s) (5000 9%) 3.4191\n"
          ]
        },
        {
          "output_type": "stream",
          "name": "stderr",
          "text": [
            " 12%|█▏        | 6008/51200 [01:39<11:36, 64.87it/s]"
          ]
        },
        {
          "output_type": "stream",
          "name": "stdout",
          "text": [
            "1m 39s (- 12m 26s) (6000 11%) 3.3316\n"
          ]
        },
        {
          "output_type": "stream",
          "name": "stderr",
          "text": [
            " 14%|█▎        | 7009/51200 [01:56<14:44, 49.97it/s]"
          ]
        },
        {
          "output_type": "stream",
          "name": "stdout",
          "text": [
            "1m 55s (- 12m 12s) (7000 13%) 3.2823\n"
          ]
        },
        {
          "output_type": "stream",
          "name": "stderr",
          "text": [
            " 16%|█▌        | 8013/51200 [02:12<10:53, 66.09it/s]"
          ]
        },
        {
          "output_type": "stream",
          "name": "stdout",
          "text": [
            "2m 11s (- 11m 52s) (8000 15%) 3.3582\n"
          ]
        },
        {
          "output_type": "stream",
          "name": "stderr",
          "text": [
            " 18%|█▊        | 9008/51200 [02:28<11:56, 58.93it/s]"
          ]
        },
        {
          "output_type": "stream",
          "name": "stdout",
          "text": [
            "2m 27s (- 11m 33s) (9000 17%) 3.2531\n"
          ]
        },
        {
          "output_type": "stream",
          "name": "stderr",
          "text": [
            " 20%|█▉        | 10013/51200 [02:44<09:48, 70.01it/s]"
          ]
        },
        {
          "output_type": "stream",
          "name": "stdout",
          "text": [
            "2m 43s (- 11m 15s) (10000 19%) 3.2882\n"
          ]
        },
        {
          "output_type": "stream",
          "name": "stderr",
          "text": [
            " 22%|██▏       | 11011/51200 [03:01<12:03, 55.54it/s]"
          ]
        },
        {
          "output_type": "stream",
          "name": "stdout",
          "text": [
            "3m 1s (- 11m 2s) (11000 21%) 3.3143\n"
          ]
        },
        {
          "output_type": "stream",
          "name": "stderr",
          "text": [
            " 23%|██▎       | 12012/51200 [03:17<09:03, 72.04it/s]"
          ]
        },
        {
          "output_type": "stream",
          "name": "stdout",
          "text": [
            "3m 17s (- 10m 44s) (12000 23%) 3.3118\n"
          ]
        },
        {
          "output_type": "stream",
          "name": "stderr",
          "text": [
            " 25%|██▌       | 13007/51200 [03:33<09:54, 64.23it/s]"
          ]
        },
        {
          "output_type": "stream",
          "name": "stdout",
          "text": [
            "3m 33s (- 10m 27s) (13000 25%) 3.2537\n"
          ]
        },
        {
          "output_type": "stream",
          "name": "stderr",
          "text": [
            " 27%|██▋       | 14014/51200 [03:49<08:46, 70.56it/s]"
          ]
        },
        {
          "output_type": "stream",
          "name": "stdout",
          "text": [
            "3m 49s (- 10m 10s) (14000 27%) 3.2509\n"
          ]
        },
        {
          "output_type": "stream",
          "name": "stderr",
          "text": [
            " 29%|██▉       | 15011/51200 [04:07<09:40, 62.32it/s]"
          ]
        },
        {
          "output_type": "stream",
          "name": "stdout",
          "text": [
            "4m 6s (- 9m 55s) (15000 29%) 3.2440\n"
          ]
        },
        {
          "output_type": "stream",
          "name": "stderr",
          "text": [
            " 31%|███▏      | 16012/51200 [04:23<08:33, 68.52it/s]"
          ]
        },
        {
          "output_type": "stream",
          "name": "stdout",
          "text": [
            "4m 23s (- 9m 39s) (16000 31%) 3.3472\n"
          ]
        },
        {
          "output_type": "stream",
          "name": "stderr",
          "text": [
            " 33%|███▎      | 17009/51200 [04:40<08:51, 64.39it/s]"
          ]
        },
        {
          "output_type": "stream",
          "name": "stdout",
          "text": [
            "4m 39s (- 9m 23s) (17000 33%) 3.3311\n"
          ]
        },
        {
          "output_type": "stream",
          "name": "stderr",
          "text": [
            " 35%|███▌      | 18007/51200 [04:56<09:58, 55.50it/s]"
          ]
        },
        {
          "output_type": "stream",
          "name": "stdout",
          "text": [
            "4m 56s (- 9m 6s) (18000 35%) 3.2076\n"
          ]
        },
        {
          "output_type": "stream",
          "name": "stderr",
          "text": [
            " 37%|███▋      | 19011/51200 [05:12<07:59, 67.14it/s]"
          ]
        },
        {
          "output_type": "stream",
          "name": "stdout",
          "text": [
            "5m 12s (- 8m 50s) (19000 37%) 3.3104\n"
          ]
        },
        {
          "output_type": "stream",
          "name": "stderr",
          "text": [
            " 39%|███▉      | 20012/51200 [05:29<07:40, 67.67it/s]"
          ]
        },
        {
          "output_type": "stream",
          "name": "stdout",
          "text": [
            "5m 29s (- 8m 33s) (20000 39%) 3.3822\n"
          ]
        },
        {
          "output_type": "stream",
          "name": "stderr",
          "text": [
            " 41%|████      | 21007/51200 [05:45<08:00, 62.88it/s]"
          ]
        },
        {
          "output_type": "stream",
          "name": "stdout",
          "text": [
            "5m 45s (- 8m 16s) (21000 41%) 3.3150\n"
          ]
        },
        {
          "output_type": "stream",
          "name": "stderr",
          "text": [
            " 43%|████▎     | 22009/51200 [06:01<10:29, 46.36it/s]"
          ]
        },
        {
          "output_type": "stream",
          "name": "stdout",
          "text": [
            "6m 1s (- 7m 59s) (22000 42%) 3.3381\n"
          ]
        },
        {
          "output_type": "stream",
          "name": "stderr",
          "text": [
            " 45%|████▍     | 23008/51200 [06:18<06:57, 67.59it/s]"
          ]
        },
        {
          "output_type": "stream",
          "name": "stdout",
          "text": [
            "6m 18s (- 7m 43s) (23000 44%) 3.3807\n"
          ]
        },
        {
          "output_type": "stream",
          "name": "stderr",
          "text": [
            " 47%|████▋     | 24009/51200 [06:34<06:58, 65.03it/s]"
          ]
        },
        {
          "output_type": "stream",
          "name": "stdout",
          "text": [
            "6m 34s (- 7m 27s) (24000 46%) 3.3388\n"
          ]
        },
        {
          "output_type": "stream",
          "name": "stderr",
          "text": [
            " 49%|████▉     | 25005/51200 [06:50<06:44, 64.73it/s]"
          ]
        },
        {
          "output_type": "stream",
          "name": "stdout",
          "text": [
            "6m 50s (- 7m 10s) (25000 48%) 3.2983\n"
          ]
        },
        {
          "output_type": "stream",
          "name": "stderr",
          "text": [
            " 51%|█████     | 26005/51200 [07:07<08:57, 46.87it/s]"
          ]
        },
        {
          "output_type": "stream",
          "name": "stdout",
          "text": [
            "7m 7s (- 6m 54s) (26000 50%) 3.2859\n"
          ]
        },
        {
          "output_type": "stream",
          "name": "stderr",
          "text": [
            " 53%|█████▎    | 27011/51200 [07:24<06:04, 66.27it/s]"
          ]
        },
        {
          "output_type": "stream",
          "name": "stdout",
          "text": [
            "7m 23s (- 6m 37s) (27000 52%) 3.3555\n"
          ]
        },
        {
          "output_type": "stream",
          "name": "stderr",
          "text": [
            " 55%|█████▍    | 28007/51200 [07:40<06:51, 56.41it/s]"
          ]
        },
        {
          "output_type": "stream",
          "name": "stdout",
          "text": [
            "7m 40s (- 6m 21s) (28000 54%) 3.3680\n"
          ]
        },
        {
          "output_type": "stream",
          "name": "stderr",
          "text": [
            " 57%|█████▋    | 29014/51200 [07:56<05:30, 67.23it/s]"
          ]
        },
        {
          "output_type": "stream",
          "name": "stdout",
          "text": [
            "7m 56s (- 6m 4s) (29000 56%) 3.4212\n"
          ]
        },
        {
          "output_type": "stream",
          "name": "stderr",
          "text": [
            " 59%|█████▊    | 30011/51200 [08:12<07:13, 48.90it/s]"
          ]
        },
        {
          "output_type": "stream",
          "name": "stdout",
          "text": [
            "8m 12s (- 5m 47s) (30000 58%) 3.3079\n"
          ]
        },
        {
          "output_type": "stream",
          "name": "stderr",
          "text": [
            " 61%|██████    | 31012/51200 [08:29<04:38, 72.51it/s]"
          ]
        },
        {
          "output_type": "stream",
          "name": "stdout",
          "text": [
            "8m 29s (- 5m 31s) (31000 60%) 3.3466\n"
          ]
        },
        {
          "output_type": "stream",
          "name": "stderr",
          "text": [
            " 63%|██████▎   | 32007/51200 [08:45<05:11, 61.56it/s]"
          ]
        },
        {
          "output_type": "stream",
          "name": "stdout",
          "text": [
            "8m 45s (- 5m 15s) (32000 62%) 3.3837\n"
          ]
        },
        {
          "output_type": "stream",
          "name": "stderr",
          "text": [
            " 64%|██████▍   | 33011/51200 [09:01<04:39, 65.08it/s]"
          ]
        },
        {
          "output_type": "stream",
          "name": "stdout",
          "text": [
            "9m 1s (- 4m 58s) (33000 64%) 3.3800\n"
          ]
        },
        {
          "output_type": "stream",
          "name": "stderr",
          "text": [
            " 66%|██████▋   | 34009/51200 [09:18<06:20, 45.12it/s]"
          ]
        },
        {
          "output_type": "stream",
          "name": "stdout",
          "text": [
            "9m 18s (- 4m 42s) (34000 66%) 3.4325\n"
          ]
        },
        {
          "output_type": "stream",
          "name": "stderr",
          "text": [
            " 68%|██████▊   | 35009/51200 [09:35<03:55, 68.89it/s]"
          ]
        },
        {
          "output_type": "stream",
          "name": "stdout",
          "text": [
            "9m 34s (- 4m 26s) (35000 68%) 3.3147\n"
          ]
        },
        {
          "output_type": "stream",
          "name": "stderr",
          "text": [
            " 70%|███████   | 36010/51200 [09:51<03:43, 68.08it/s]"
          ]
        },
        {
          "output_type": "stream",
          "name": "stdout",
          "text": [
            "9m 51s (- 4m 9s) (36000 70%) 3.4390\n"
          ]
        },
        {
          "output_type": "stream",
          "name": "stderr",
          "text": [
            " 72%|███████▏  | 37009/51200 [10:07<03:26, 68.56it/s]"
          ]
        },
        {
          "output_type": "stream",
          "name": "stdout",
          "text": [
            "10m 7s (- 3m 53s) (37000 72%) 3.3764\n"
          ]
        },
        {
          "output_type": "stream",
          "name": "stderr",
          "text": [
            " 74%|███████▍  | 38007/51200 [10:23<04:34, 48.11it/s]"
          ]
        },
        {
          "output_type": "stream",
          "name": "stdout",
          "text": [
            "10m 23s (- 3m 36s) (38000 74%) 3.2621\n"
          ]
        },
        {
          "output_type": "stream",
          "name": "stderr",
          "text": [
            " 76%|███████▌  | 39007/51200 [10:40<03:01, 67.20it/s]"
          ]
        },
        {
          "output_type": "stream",
          "name": "stdout",
          "text": [
            "10m 40s (- 3m 20s) (39000 76%) 3.3274\n"
          ]
        },
        {
          "output_type": "stream",
          "name": "stderr",
          "text": [
            " 78%|███████▊  | 40013/51200 [10:56<02:35, 72.12it/s]"
          ]
        },
        {
          "output_type": "stream",
          "name": "stdout",
          "text": [
            "10m 56s (- 3m 3s) (40000 78%) 3.3317\n"
          ]
        },
        {
          "output_type": "stream",
          "name": "stderr",
          "text": [
            " 80%|████████  | 41013/51200 [11:12<02:24, 70.72it/s]"
          ]
        },
        {
          "output_type": "stream",
          "name": "stdout",
          "text": [
            "11m 12s (- 2m 47s) (41000 80%) 3.3270\n"
          ]
        },
        {
          "output_type": "stream",
          "name": "stderr",
          "text": [
            " 82%|████████▏ | 42007/51200 [11:29<03:24, 45.04it/s]"
          ]
        },
        {
          "output_type": "stream",
          "name": "stdout",
          "text": [
            "11m 29s (- 2m 31s) (42000 82%) 3.4610\n"
          ]
        },
        {
          "output_type": "stream",
          "name": "stderr",
          "text": [
            " 84%|████████▍ | 43011/51200 [11:45<01:59, 68.38it/s]"
          ]
        },
        {
          "output_type": "stream",
          "name": "stdout",
          "text": [
            "11m 45s (- 2m 14s) (43000 83%) 3.3542\n"
          ]
        },
        {
          "output_type": "stream",
          "name": "stderr",
          "text": [
            " 86%|████████▌ | 44009/51200 [12:01<01:39, 72.38it/s]"
          ]
        },
        {
          "output_type": "stream",
          "name": "stdout",
          "text": [
            "12m 1s (- 1m 58s) (44000 85%) 3.2803\n"
          ]
        },
        {
          "output_type": "stream",
          "name": "stderr",
          "text": [
            " 88%|████████▊ | 45008/51200 [12:17<01:40, 61.51it/s]"
          ]
        },
        {
          "output_type": "stream",
          "name": "stdout",
          "text": [
            "12m 17s (- 1m 41s) (45000 87%) 3.3111\n"
          ]
        },
        {
          "output_type": "stream",
          "name": "stderr",
          "text": [
            " 90%|████████▉ | 46008/51200 [12:33<01:47, 48.29it/s]"
          ]
        },
        {
          "output_type": "stream",
          "name": "stdout",
          "text": [
            "12m 33s (- 1m 25s) (46000 89%) 3.2737\n"
          ]
        },
        {
          "output_type": "stream",
          "name": "stderr",
          "text": [
            " 92%|█████████▏| 47010/51200 [12:50<01:03, 66.03it/s]"
          ]
        },
        {
          "output_type": "stream",
          "name": "stdout",
          "text": [
            "12m 50s (- 1m 8s) (47000 91%) 3.2880\n"
          ]
        },
        {
          "output_type": "stream",
          "name": "stderr",
          "text": [
            " 94%|█████████▍| 48011/51200 [13:05<00:43, 72.55it/s]"
          ]
        },
        {
          "output_type": "stream",
          "name": "stdout",
          "text": [
            "13m 5s (- 0m 52s) (48000 93%) 3.2562\n"
          ]
        },
        {
          "output_type": "stream",
          "name": "stderr",
          "text": [
            " 96%|█████████▌| 49013/51200 [13:21<00:32, 66.27it/s]"
          ]
        },
        {
          "output_type": "stream",
          "name": "stdout",
          "text": [
            "13m 21s (- 0m 35s) (49000 95%) 3.3091\n"
          ]
        },
        {
          "output_type": "stream",
          "name": "stderr",
          "text": [
            " 98%|█████████▊| 50003/51200 [13:37<00:21, 55.94it/s]"
          ]
        },
        {
          "output_type": "stream",
          "name": "stdout",
          "text": [
            "13m 37s (- 0m 19s) (50000 97%) 3.2742\n"
          ]
        },
        {
          "output_type": "stream",
          "name": "stderr",
          "text": [
            "100%|█████████▉| 51010/51200 [13:53<00:02, 67.66it/s]"
          ]
        },
        {
          "output_type": "stream",
          "name": "stdout",
          "text": [
            "13m 53s (- 0m 3s) (51000 99%) 3.2409\n"
          ]
        },
        {
          "output_type": "stream",
          "name": "stderr",
          "text": [
            "100%|██████████| 51200/51200 [13:56<00:00, 61.19it/s]\n",
            "  2%|▏         | 1012/51200 [00:17<12:47, 65.39it/s]"
          ]
        },
        {
          "output_type": "stream",
          "name": "stdout",
          "text": [
            "17m 46s (- 892m 41s) (1000 1%) 4.0380\n"
          ]
        },
        {
          "output_type": "stream",
          "name": "stderr",
          "text": [
            "  4%|▍         | 2011/51200 [00:33<12:44, 64.37it/s]"
          ]
        },
        {
          "output_type": "stream",
          "name": "stdout",
          "text": [
            "18m 3s (- 444m 5s) (2000 3%) 3.3960\n"
          ]
        },
        {
          "output_type": "stream",
          "name": "stderr",
          "text": [
            "  6%|▌         | 3011/51200 [00:49<11:43, 68.53it/s]"
          ]
        },
        {
          "output_type": "stream",
          "name": "stdout",
          "text": [
            "18m 18s (- 294m 16s) (3000 5%) 3.2899\n"
          ]
        },
        {
          "output_type": "stream",
          "name": "stderr",
          "text": [
            "  8%|▊         | 4007/51200 [01:04<12:06, 64.96it/s]"
          ]
        },
        {
          "output_type": "stream",
          "name": "stdout",
          "text": [
            "18m 34s (- 219m 12s) (4000 7%) 3.2783\n"
          ]
        },
        {
          "output_type": "stream",
          "name": "stderr",
          "text": [
            " 10%|▉         | 5005/51200 [01:21<17:43, 43.46it/s]"
          ]
        },
        {
          "output_type": "stream",
          "name": "stdout",
          "text": [
            "18m 51s (- 174m 12s) (5000 9%) 3.2695\n"
          ]
        },
        {
          "output_type": "stream",
          "name": "stderr",
          "text": [
            " 12%|█▏        | 6011/51200 [01:37<11:28, 65.62it/s]"
          ]
        },
        {
          "output_type": "stream",
          "name": "stdout",
          "text": [
            "19m 7s (- 144m 3s) (6000 11%) 3.3140\n"
          ]
        },
        {
          "output_type": "stream",
          "name": "stderr",
          "text": [
            " 14%|█▎        | 7007/51200 [01:53<10:42, 68.82it/s]"
          ]
        },
        {
          "output_type": "stream",
          "name": "stdout",
          "text": [
            "19m 23s (- 122m 24s) (7000 13%) 3.3580\n"
          ]
        },
        {
          "output_type": "stream",
          "name": "stderr",
          "text": [
            " 16%|█▌        | 8012/51200 [02:08<09:50, 73.20it/s]"
          ]
        },
        {
          "output_type": "stream",
          "name": "stdout",
          "text": [
            "19m 38s (- 106m 3s) (8000 15%) 3.2628\n"
          ]
        },
        {
          "output_type": "stream",
          "name": "stderr",
          "text": [
            " 18%|█▊        | 9006/51200 [02:24<14:07, 49.76it/s]"
          ]
        },
        {
          "output_type": "stream",
          "name": "stdout",
          "text": [
            "19m 54s (- 93m 20s) (9000 17%) 3.2562\n"
          ]
        },
        {
          "output_type": "stream",
          "name": "stderr",
          "text": [
            " 20%|█▉        | 10009/51200 [02:41<10:14, 67.07it/s]"
          ]
        },
        {
          "output_type": "stream",
          "name": "stdout",
          "text": [
            "20m 10s (- 83m 8s) (10000 19%) 3.3274\n"
          ]
        },
        {
          "output_type": "stream",
          "name": "stderr",
          "text": [
            " 22%|██▏       | 11008/51200 [02:57<09:31, 70.39it/s]"
          ]
        },
        {
          "output_type": "stream",
          "name": "stdout",
          "text": [
            "20m 27s (- 74m 44s) (11000 21%) 3.2949\n"
          ]
        },
        {
          "output_type": "stream",
          "name": "stderr",
          "text": [
            " 23%|██▎       | 12010/51200 [03:13<09:03, 72.16it/s]"
          ]
        },
        {
          "output_type": "stream",
          "name": "stdout",
          "text": [
            "20m 42s (- 67m 39s) (12000 23%) 3.2592\n"
          ]
        },
        {
          "output_type": "stream",
          "name": "stderr",
          "text": [
            " 25%|██▌       | 13006/51200 [03:28<08:49, 72.18it/s]"
          ]
        },
        {
          "output_type": "stream",
          "name": "stdout",
          "text": [
            "20m 58s (- 61m 38s) (13000 25%) 3.3028\n"
          ]
        },
        {
          "output_type": "stream",
          "name": "stderr",
          "text": [
            " 27%|██▋       | 14009/51200 [03:46<09:27, 65.55it/s]"
          ]
        },
        {
          "output_type": "stream",
          "name": "stdout",
          "text": [
            "21m 15s (- 56m 29s) (14000 27%) 3.3153\n"
          ]
        },
        {
          "output_type": "stream",
          "name": "stderr",
          "text": [
            " 29%|██▉       | 15012/51200 [04:02<09:14, 65.24it/s]"
          ]
        },
        {
          "output_type": "stream",
          "name": "stdout",
          "text": [
            "21m 31s (- 51m 57s) (15000 29%) 3.3009\n"
          ]
        },
        {
          "output_type": "stream",
          "name": "stderr",
          "text": [
            " 31%|███▏      | 16010/51200 [04:18<08:41, 67.46it/s]"
          ]
        },
        {
          "output_type": "stream",
          "name": "stdout",
          "text": [
            "21m 47s (- 47m 57s) (16000 31%) 3.2806\n"
          ]
        },
        {
          "output_type": "stream",
          "name": "stderr",
          "text": [
            " 33%|███▎      | 17011/51200 [04:34<09:57, 57.25it/s]"
          ]
        },
        {
          "output_type": "stream",
          "name": "stdout",
          "text": [
            "22m 4s (- 44m 23s) (17000 33%) 3.3090\n"
          ]
        },
        {
          "output_type": "stream",
          "name": "stderr",
          "text": [
            " 35%|███▌      | 18012/51200 [04:51<07:58, 69.32it/s]"
          ]
        },
        {
          "output_type": "stream",
          "name": "stdout",
          "text": [
            "22m 21s (- 41m 13s) (18000 35%) 3.3114\n"
          ]
        },
        {
          "output_type": "stream",
          "name": "stderr",
          "text": [
            " 37%|███▋      | 19007/51200 [05:07<07:33, 70.97it/s]"
          ]
        },
        {
          "output_type": "stream",
          "name": "stdout",
          "text": [
            "22m 36s (- 38m 19s) (19000 37%) 3.2467\n"
          ]
        },
        {
          "output_type": "stream",
          "name": "stderr",
          "text": [
            " 39%|███▉      | 20012/51200 [05:23<07:50, 66.30it/s]"
          ]
        },
        {
          "output_type": "stream",
          "name": "stdout",
          "text": [
            "22m 52s (- 35m 41s) (20000 39%) 3.3482\n"
          ]
        },
        {
          "output_type": "stream",
          "name": "stderr",
          "text": [
            " 41%|████      | 21004/51200 [05:39<10:35, 47.50it/s]"
          ]
        },
        {
          "output_type": "stream",
          "name": "stdout",
          "text": [
            "23m 9s (- 33m 17s) (21000 41%) 3.3944\n"
          ]
        },
        {
          "output_type": "stream",
          "name": "stderr",
          "text": [
            " 43%|████▎     | 22011/51200 [05:56<07:10, 67.78it/s]"
          ]
        },
        {
          "output_type": "stream",
          "name": "stdout",
          "text": [
            "23m 26s (- 31m 6s) (22000 42%) 3.4562\n"
          ]
        },
        {
          "output_type": "stream",
          "name": "stderr",
          "text": [
            " 45%|████▍     | 23012/51200 [06:12<07:19, 64.19it/s]"
          ]
        },
        {
          "output_type": "stream",
          "name": "stdout",
          "text": [
            "23m 41s (- 29m 3s) (23000 44%) 3.2609\n"
          ]
        },
        {
          "output_type": "stream",
          "name": "stderr",
          "text": [
            " 47%|████▋     | 24009/51200 [06:28<06:26, 70.31it/s]"
          ]
        },
        {
          "output_type": "stream",
          "name": "stdout",
          "text": [
            "23m 58s (- 27m 9s) (24000 46%) 3.3436\n"
          ]
        },
        {
          "output_type": "stream",
          "name": "stderr",
          "text": [
            " 49%|████▉     | 25005/51200 [06:44<09:10, 47.56it/s]"
          ]
        },
        {
          "output_type": "stream",
          "name": "stdout",
          "text": [
            "24m 14s (- 25m 24s) (25000 48%) 3.3372\n"
          ]
        },
        {
          "output_type": "stream",
          "name": "stderr",
          "text": [
            " 51%|█████     | 26008/51200 [07:01<06:21, 66.09it/s]"
          ]
        },
        {
          "output_type": "stream",
          "name": "stdout",
          "text": [
            "24m 31s (- 23m 46s) (26000 50%) 3.2910\n"
          ]
        },
        {
          "output_type": "stream",
          "name": "stderr",
          "text": [
            " 53%|█████▎    | 27008/51200 [07:18<07:03, 57.17it/s]"
          ]
        },
        {
          "output_type": "stream",
          "name": "stdout",
          "text": [
            "24m 47s (- 22m 13s) (27000 52%) 3.3958\n"
          ]
        },
        {
          "output_type": "stream",
          "name": "stderr",
          "text": [
            " 55%|█████▍    | 28007/51200 [07:34<07:14, 53.32it/s]"
          ]
        },
        {
          "output_type": "stream",
          "name": "stdout",
          "text": [
            "25m 3s (- 20m 46s) (28000 54%) 3.2838\n"
          ]
        },
        {
          "output_type": "stream",
          "name": "stderr",
          "text": [
            " 57%|█████▋    | 29008/51200 [07:50<07:17, 50.68it/s]"
          ]
        },
        {
          "output_type": "stream",
          "name": "stdout",
          "text": [
            "25m 20s (- 19m 23s) (29000 56%) 3.3560\n"
          ]
        },
        {
          "output_type": "stream",
          "name": "stderr",
          "text": [
            " 59%|█████▊    | 30008/51200 [08:07<05:13, 67.57it/s]"
          ]
        },
        {
          "output_type": "stream",
          "name": "stdout",
          "text": [
            "25m 36s (- 18m 5s) (30000 58%) 3.2638\n"
          ]
        },
        {
          "output_type": "stream",
          "name": "stderr",
          "text": [
            " 61%|██████    | 31012/51200 [08:23<04:53, 68.80it/s]"
          ]
        },
        {
          "output_type": "stream",
          "name": "stdout",
          "text": [
            "25m 52s (- 16m 51s) (31000 60%) 3.3286\n"
          ]
        },
        {
          "output_type": "stream",
          "name": "stderr",
          "text": [
            " 63%|██████▎   | 32008/51200 [08:39<05:28, 58.38it/s]"
          ]
        },
        {
          "output_type": "stream",
          "name": "stdout",
          "text": [
            "26m 8s (- 15m 41s) (32000 62%) 3.3735\n"
          ]
        },
        {
          "output_type": "stream",
          "name": "stderr",
          "text": [
            " 64%|██████▍   | 33004/51200 [08:55<06:17, 48.20it/s]"
          ]
        },
        {
          "output_type": "stream",
          "name": "stdout",
          "text": [
            "26m 25s (- 14m 34s) (33000 64%) 3.3088\n"
          ]
        },
        {
          "output_type": "stream",
          "name": "stderr",
          "text": [
            " 66%|██████▋   | 34015/51200 [09:12<03:59, 71.79it/s]"
          ]
        },
        {
          "output_type": "stream",
          "name": "stdout",
          "text": [
            "26m 42s (- 13m 30s) (34000 66%) 3.3998\n"
          ]
        },
        {
          "output_type": "stream",
          "name": "stderr",
          "text": [
            " 68%|██████▊   | 35013/51200 [09:28<03:45, 71.79it/s]"
          ]
        },
        {
          "output_type": "stream",
          "name": "stdout",
          "text": [
            "26m 58s (- 12m 28s) (35000 68%) 3.3073\n"
          ]
        },
        {
          "output_type": "stream",
          "name": "stderr",
          "text": [
            " 70%|███████   | 36011/51200 [09:44<03:42, 68.21it/s]"
          ]
        },
        {
          "output_type": "stream",
          "name": "stdout",
          "text": [
            "27m 14s (- 11m 30s) (36000 70%) 3.3009\n"
          ]
        },
        {
          "output_type": "stream",
          "name": "stderr",
          "text": [
            " 72%|███████▏  | 37011/51200 [10:00<04:23, 53.90it/s]"
          ]
        },
        {
          "output_type": "stream",
          "name": "stdout",
          "text": [
            "27m 30s (- 10m 33s) (37000 72%) 3.3650\n"
          ]
        },
        {
          "output_type": "stream",
          "name": "stderr",
          "text": [
            " 74%|███████▍  | 38013/51200 [10:17<03:06, 70.68it/s]"
          ]
        },
        {
          "output_type": "stream",
          "name": "stdout",
          "text": [
            "27m 47s (- 9m 39s) (38000 74%) 3.3080\n"
          ]
        },
        {
          "output_type": "stream",
          "name": "stderr",
          "text": [
            " 76%|███████▌  | 39007/51200 [10:33<03:03, 66.52it/s]"
          ]
        },
        {
          "output_type": "stream",
          "name": "stdout",
          "text": [
            "28m 3s (- 8m 46s) (39000 76%) 3.4019\n"
          ]
        },
        {
          "output_type": "stream",
          "name": "stderr",
          "text": [
            " 78%|███████▊  | 40006/51200 [10:49<02:30, 74.24it/s]"
          ]
        },
        {
          "output_type": "stream",
          "name": "stdout",
          "text": [
            "28m 19s (- 7m 55s) (40000 78%) 3.2822\n"
          ]
        },
        {
          "output_type": "stream",
          "name": "stderr",
          "text": [
            " 80%|████████  | 41009/51200 [11:05<03:10, 53.40it/s]"
          ]
        },
        {
          "output_type": "stream",
          "name": "stdout",
          "text": [
            "28m 35s (- 7m 6s) (41000 80%) 3.3211\n"
          ]
        },
        {
          "output_type": "stream",
          "name": "stderr",
          "text": [
            " 82%|████████▏ | 42015/51200 [11:22<02:09, 71.18it/s]"
          ]
        },
        {
          "output_type": "stream",
          "name": "stdout",
          "text": [
            "28m 52s (- 6m 19s) (42000 82%) 3.4454\n"
          ]
        },
        {
          "output_type": "stream",
          "name": "stderr",
          "text": [
            " 84%|████████▍ | 43011/51200 [11:38<02:06, 64.89it/s]"
          ]
        },
        {
          "output_type": "stream",
          "name": "stdout",
          "text": [
            "29m 7s (- 5m 33s) (43000 83%) 3.3349\n"
          ]
        },
        {
          "output_type": "stream",
          "name": "stderr",
          "text": [
            " 86%|████████▌ | 44007/51200 [11:54<01:47, 67.05it/s]"
          ]
        },
        {
          "output_type": "stream",
          "name": "stdout",
          "text": [
            "29m 24s (- 4m 48s) (44000 85%) 3.3792\n"
          ]
        },
        {
          "output_type": "stream",
          "name": "stderr",
          "text": [
            " 88%|████████▊ | 45007/51200 [12:10<01:59, 51.80it/s]"
          ]
        },
        {
          "output_type": "stream",
          "name": "stdout",
          "text": [
            "29m 40s (- 4m 5s) (45000 87%) 3.3634\n"
          ]
        },
        {
          "output_type": "stream",
          "name": "stderr",
          "text": [
            " 90%|████████▉ | 46008/51200 [12:27<01:17, 67.02it/s]"
          ]
        },
        {
          "output_type": "stream",
          "name": "stdout",
          "text": [
            "29m 57s (- 3m 23s) (46000 89%) 3.3661\n"
          ]
        },
        {
          "output_type": "stream",
          "name": "stderr",
          "text": [
            " 92%|█████████▏| 47008/51200 [12:44<01:05, 64.34it/s]"
          ]
        },
        {
          "output_type": "stream",
          "name": "stdout",
          "text": [
            "30m 13s (- 2m 42s) (47000 91%) 3.3689\n"
          ]
        },
        {
          "output_type": "stream",
          "name": "stderr",
          "text": [
            " 94%|█████████▍| 48013/51200 [13:00<00:47, 67.16it/s]"
          ]
        },
        {
          "output_type": "stream",
          "name": "stdout",
          "text": [
            "30m 30s (- 2m 2s) (48000 93%) 3.3502\n"
          ]
        },
        {
          "output_type": "stream",
          "name": "stderr",
          "text": [
            " 96%|█████████▌| 49004/51200 [13:17<00:47, 45.83it/s]"
          ]
        },
        {
          "output_type": "stream",
          "name": "stdout",
          "text": [
            "30m 46s (- 1m 22s) (49000 95%) 3.3206\n"
          ]
        },
        {
          "output_type": "stream",
          "name": "stderr",
          "text": [
            " 98%|█████████▊| 50008/51200 [13:33<00:17, 69.34it/s]"
          ]
        },
        {
          "output_type": "stream",
          "name": "stdout",
          "text": [
            "31m 2s (- 0m 44s) (50000 97%) 3.1989\n"
          ]
        },
        {
          "output_type": "stream",
          "name": "stderr",
          "text": [
            "100%|█████████▉| 51012/51200 [13:49<00:02, 66.68it/s]"
          ]
        },
        {
          "output_type": "stream",
          "name": "stdout",
          "text": [
            "31m 19s (- 0m 7s) (51000 99%) 3.3407\n"
          ]
        },
        {
          "output_type": "stream",
          "name": "stderr",
          "text": [
            "100%|██████████| 51200/51200 [13:52<00:00, 61.51it/s]\n",
            "\u001b[34m\u001b[1mwandb\u001b[0m: Ctrl + C detected. Stopping sweep.\n"
          ]
        }
      ]
    },
    {
      "cell_type": "code",
      "source": [],
      "metadata": {
        "id": "GeU_DfgVhKTN"
      },
      "execution_count": null,
      "outputs": []
    }
  ]
}